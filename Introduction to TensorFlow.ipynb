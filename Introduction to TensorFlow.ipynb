{
 "cells": [
  {
   "cell_type": "code",
   "execution_count": 1,
   "metadata": {
    "collapsed": false,
    "slideshow": {
     "slide_type": "skip"
    }
   },
   "outputs": [
    {
     "name": "stdout",
     "output_type": "stream",
     "text": [
      "Populating the interactive namespace from numpy and matplotlib\n"
     ]
    }
   ],
   "source": [
    "%pylab inline"
   ]
  },
  {
   "cell_type": "markdown",
   "metadata": {
    "slideshow": {
     "slide_type": "slide"
    }
   },
   "source": [
    "## Introduction to TensorFlow"
   ]
  },
  {
   "cell_type": "markdown",
   "metadata": {
    "slideshow": {
     "slide_type": "slide"
    }
   },
   "source": [
    "## Hello World in TensorFlow"
   ]
  },
  {
   "cell_type": "markdown",
   "metadata": {
    "slideshow": {
     "slide_type": "fragment"
    }
   },
   "source": [
    "* Import the TensorFlow library\n",
    "```python\n",
    "import tensorflow as tf\n",
    "```"
   ]
  },
  {
   "cell_type": "markdown",
   "metadata": {
    "slideshow": {
     "slide_type": "fragment"
    }
   },
   "source": [
    "* Create a session with TensorFlow's run time\n",
    "```python\n",
    "with tf.Session('') as sess:\n",
    "```"
   ]
  },
  {
   "cell_type": "markdown",
   "metadata": {
    "slideshow": {
     "slide_type": "fragment"
    }
   },
   "source": [
    "* Create some operations\n",
    "```python\n",
    "  c = tf.constant('Hello, world!')\n",
    "```"
   ]
  },
  {
   "cell_type": "markdown",
   "metadata": {
    "slideshow": {
     "slide_type": "fragment"
    }
   },
   "source": [
    "* Run the operations\n",
    "```python\n",
    "print(sess.run(c))\n",
    "```"
   ]
  },
  {
   "cell_type": "code",
   "execution_count": 3,
   "metadata": {
    "collapsed": false,
    "slideshow": {
     "slide_type": "slide"
    }
   },
   "outputs": [
    {
     "name": "stdout",
     "output_type": "stream",
     "text": [
      "Hello, world!\n"
     ]
    }
   ],
   "source": [
    "import tensorflow as tf\n",
    "with tf.Session('') as sess:\n",
    "  c = tf.constant('Hello, world!')\n",
    "  print(sess.run(c))"
   ]
  },
  {
   "cell_type": "markdown",
   "metadata": {
    "slideshow": {
     "slide_type": "slide"
    }
   },
   "source": [
    "### InteractiveSession\n",
    "* `with tf.Session(''):` is cumbersome in a REPL, for instance.\n",
    "* Use `tf.InteractiveSession()`\n",
    "```python\n",
    "sess = tf.InteractiveSession()\n",
    "```"
   ]
  },
  {
   "cell_type": "code",
   "execution_count": 3,
   "metadata": {
    "collapsed": false,
    "slideshow": {
     "slide_type": "skip"
    }
   },
   "outputs": [],
   "source": [
    "sess = tf.InteractiveSession()"
   ]
  },
  {
   "cell_type": "markdown",
   "metadata": {
    "slideshow": {
     "slide_type": "slide"
    }
   },
   "source": [
    "### Constants\n",
    "```python\n",
    "# float vector\n",
    "a = tf.constant([1.0, 2.0, 3.0, 4.0])\n",
    "# int32 vector\n",
    "b = tf.constant([5, 6, 7, 8])\n",
    "# int32 2x2 matrix\n",
    "c = tf.constant([5, 6, 7, 8], shape=[2, 2])\n",
    "# int32 2x2 matrix\n",
    "d = tf.constant([[5, 6], [7, 8]])\n",
    "# int32 2x2x1 matrix\n",
    "e = tf.constant([[[5], [6]], [[7], [8]]])\n",
    "```\n",
    "### Types\n",
    "* Integer types\n",
    "  - tf.int32, tf.int64, ...\n",
    "* Floating point types\n",
    "  - tf.float32, tf.float64, tf.complex64, ..\n",
    "* Other\n",
    "  - tf.bool, tf.string"
   ]
  },
  {
   "cell_type": "markdown",
   "metadata": {
    "slideshow": {
     "slide_type": "slide"
    }
   },
   "source": [
    "### Constants from numpy arrays"
   ]
  },
  {
   "cell_type": "code",
   "execution_count": 4,
   "metadata": {
    "collapsed": false
   },
   "outputs": [
    {
     "name": "stdout",
     "output_type": "stream",
     "text": [
      "[[[ 0.16995719  0.00398841]\n",
      "  [ 0.57606181  0.65160659]]\n",
      "\n",
      " [[ 0.25170991  0.69922021]\n",
      "  [ 0.02542203  0.55240549]]]\n"
     ]
    }
   ],
   "source": [
    "c = tf.constant(random.rand(2, 2, 2))\n",
    "print(sess.run(c))"
   ]
  },
  {
   "cell_type": "markdown",
   "metadata": {
    "slideshow": {
     "slide_type": "slide"
    }
   },
   "source": [
    "### Expressions"
   ]
  },
  {
   "cell_type": "code",
   "execution_count": 5,
   "metadata": {
    "collapsed": false
   },
   "outputs": [
    {
     "name": "stdout",
     "output_type": "stream",
     "text": [
      "[[ 72  84]\n",
      " [ 98 114]]\n"
     ]
    }
   ],
   "source": [
    "x = tf.constant([[5, 6], [7, 8]])\n",
    "z = tf.matmul(x, x) + tf.matmul(x, [[1, 0], [0, 1]])\n",
    "# eval() method on expressions is a shorthand for sess.run\n",
    "print(z.eval())  # sess.run(z)"
   ]
  },
  {
   "cell_type": "markdown",
   "metadata": {},
   "source": [
    "![Graph](data/expression.png)"
   ]
  },
  {
   "cell_type": "markdown",
   "metadata": {
    "slideshow": {
     "slide_type": "slide"
    }
   },
   "source": [
    "### Variables\n",
    "* Primary mechanism for \"State\" in TensorFlow"
   ]
  },
  {
   "cell_type": "code",
   "execution_count": 13,
   "metadata": {
    "collapsed": true,
    "slideshow": {
     "slide_type": "fragment"
    }
   },
   "outputs": [],
   "source": [
    "# Create a variable with some initial value\n",
    "v = tf.Variable([[1.0, 2.0], [3.0, 4.0]])"
   ]
  },
  {
   "cell_type": "code",
   "execution_count": 7,
   "metadata": {
    "collapsed": true,
    "slideshow": {
     "slide_type": "fragment"
    }
   },
   "outputs": [],
   "source": [
    "# Get an operation that when run, initializes all variables\n",
    "# declared so far\n",
    "init = tf.initialize_all_variables()"
   ]
  },
  {
   "cell_type": "code",
   "execution_count": 12,
   "metadata": {
    "collapsed": false,
    "slideshow": {
     "slide_type": "fragment"
    }
   },
   "outputs": [
    {
     "name": "stdout",
     "output_type": "stream",
     "text": [
      "[[ 1.  2.]]\n"
     ]
    }
   ],
   "source": [
    "# Initialize the variables\n",
    "init.run()\n",
    "# Inspect the variables\n",
    "print(v.eval())"
   ]
  },
  {
   "cell_type": "code",
   "execution_count": 14,
   "metadata": {
    "collapsed": false,
    "slideshow": {
     "slide_type": "fragment"
    }
   },
   "outputs": [],
   "source": [
    "# Assign a new value to the variable\n",
    "assign_v = v.assign(random.rand(2, 2))"
   ]
  },
  {
   "cell_type": "code",
   "execution_count": 15,
   "metadata": {
    "collapsed": false,
    "slideshow": {
     "slide_type": "fragment"
    }
   },
   "outputs": [
    {
     "name": "stdout",
     "output_type": "stream",
     "text": [
      "[[ 0.25413761  0.14187019]\n",
      " [ 0.58239782  0.24519511]]\n"
     ]
    }
   ],
   "source": [
    "# Perform the assignment and inspect the new value\n",
    "sess.run(assign_v)\n",
    "print(v.eval())"
   ]
  }
 ],
 "metadata": {
  "celltoolbar": "Slideshow",
  "kernelspec": {
   "display_name": "Python 2",
   "language": "python",
   "name": "python2"
  },
  "language_info": {
   "codemirror_mode": {
    "name": "ipython",
    "version": 2
   },
   "file_extension": ".py",
   "mimetype": "text/x-python",
   "name": "python",
   "nbconvert_exporter": "python",
   "pygments_lexer": "ipython2",
   "version": "2.7.10"
  }
 },
 "nbformat": 4,
 "nbformat_minor": 0
}
